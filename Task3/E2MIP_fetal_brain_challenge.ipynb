{
  "nbformat": 4,
  "nbformat_minor": 0,
  "metadata": {
    "colab": {
      "provenance": [],
      "authorship_tag": "ABX9TyNt+E7OgRD7pSq7pZU3nUTj",
      "include_colab_link": true
    },
    "kernelspec": {
      "name": "python3",
      "display_name": "Python 3"
    },
    "language_info": {
      "name": "python"
    }
  },
  "cells": [
    {
      "cell_type": "markdown",
      "metadata": {
        "id": "view-in-github",
        "colab_type": "text"
      },
      "source": [
        "<a href=\"https://colab.research.google.com/github/melanieganz/MIAhackathon2024/blob/main/Task3/E2MIP_fetal_brain_challenge.ipynb\" target=\"_parent\"><img src=\"https://colab.research.google.com/assets/colab-badge.svg\" alt=\"Open In Colab\"/></a>"
      ]
    },
    {
      "cell_type": "markdown",
      "source": [
        "Import repo"
      ],
      "metadata": {
        "id": "0RpX5T5Bym0K"
      }
    },
    {
      "cell_type": "code",
      "execution_count": 1,
      "metadata": {
        "colab": {
          "base_uri": "https://localhost:8080/"
        },
        "id": "7GMJ6meYyHk9",
        "outputId": "38c9405c-e4fd-4c80-8088-35a123cea9c7"
      },
      "outputs": [
        {
          "output_type": "stream",
          "name": "stdout",
          "text": [
            "Collecting Outreach Repository\n",
            "Cloning into 'E2MIP_Challenge_FetalBrainSegmentation'...\n",
            "remote: Enumerating objects: 1216, done.\u001b[K\n",
            "remote: Counting objects: 100% (248/248), done.\u001b[K\n",
            "remote: Compressing objects: 100% (209/209), done.\u001b[K\n",
            "remote: Total 1216 (delta 39), reused 236 (delta 34), pack-reused 968 (from 1)\u001b[K\n",
            "Receiving objects: 100% (1216/1216), 98.41 MiB | 19.44 MiB/s, done.\n",
            "Resolving deltas: 100% (68/68), done.\n"
          ]
        }
      ],
      "source": [
        "!if [ -d \"E2MIP_Challenge_FetalBrainSegmentation\" ]; then echo \"Repo already cloned.\" && cd E2MIP_Challenge_FetalBrainSegmentation && git pull && cd ..; else echo \"Collecting Outreach Repository\" && git clone https://github.com/Faghihpirayesh/E2MIP_Challenge_FetalBrainSegmentation.git; fi\n"
      ]
    }
  ]
}